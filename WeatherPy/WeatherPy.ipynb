{
 "cells": [
  {
   "cell_type": "markdown",
   "metadata": {},
   "source": [
    "# WeatherPy\n",
    "----\n",
    "\n",
    "#### Note\n",
    "* Instructions have been included for each segment. You do not have to follow them exactly, but they are included to help you think through the steps."
   ]
  },
  {
   "cell_type": "code",
   "execution_count": 3,
   "metadata": {},
   "outputs": [],
   "source": [
    "# Observations\n",
    "# 1. Temperature correlates with latitude, which was expected. \n",
    "#    The temperture decreases as you move away from the equator\n",
    "# 2. There is no correlation between the latitude and the humidity, as well as cloudiness and windspeed.\n",
    "# 3. As you move north or south wind speed tends to increase \n",
    "#    and as you get to the north or south pole windspeed is at a max."
   ]
  },
  {
   "cell_type": "code",
   "execution_count": 31,
   "metadata": {
    "scrolled": true
   },
   "outputs": [],
   "source": [
    "# Dependencies and Setup\n",
    "import matplotlib.pyplot as plt\n",
    "import pandas as pd\n",
    "import numpy as np\n",
    "import requests\n",
    "import time\n",
    "from scipy.stats import linregress\n",
    "import os.path\n",
    "\n",
    "# Import API key\n",
    "from api_keys import weather_api_key\n",
    "from api_keys import g_key\n",
    "\n",
    "# Incorporated citipy to determine city based on latitude and longitude\n",
    "from citipy import citipy\n",
    "\n",
    "# Output File (CSV)\n",
    "output_data_file = \"output_data/cities.csv\"\n",
    "\n",
    "# Range of latitudes and longitudes\n",
    "lat_range = (-90, 90)\n",
    "lng_range = (-180, 180)"
   ]
  },
  {
   "cell_type": "markdown",
   "metadata": {},
   "source": [
    "## Generate Cities List"
   ]
  },
  {
   "cell_type": "code",
   "execution_count": 2,
   "metadata": {},
   "outputs": [
    {
     "data": {
      "text/plain": [
       "617"
      ]
     },
     "execution_count": 2,
     "metadata": {},
     "output_type": "execute_result"
    }
   ],
   "source": [
    "# List for holding lat_lngs and cities\n",
    "lat_lngs = []\n",
    "cities = []\n",
    "\n",
    "# Create a set of random lat and lng combinations\n",
    "lats = np.random.uniform(lat_range[0], lat_range[1], size=1500)\n",
    "lngs = np.random.uniform(lng_range[0], lng_range[1], size=1500)\n",
    "lat_lngs = zip(lats, lngs)\n",
    "\n",
    "# Identify nearest city for each lat, lng combination\n",
    "for lat_lng in lat_lngs:\n",
    "    city = citipy.nearest_city(lat_lng[0], lat_lng[1]).city_name\n",
    "    \n",
    "    # If the city is unique, then add it to a our cities list\n",
    "    if city not in cities:\n",
    "        cities.append(city)\n",
    "\n",
    "# Print the city count to confirm sufficient count\n",
    "len(cities)"
   ]
  },
  {
   "cell_type": "markdown",
   "metadata": {},
   "source": [
    "### Perform API Calls\n",
    "* Perform a weather check on each city using a series of successive API calls.\n",
    "* Include a print log of each city as it'sbeing processed (with the city number and city name).\n"
   ]
  },
  {
   "cell_type": "code",
   "execution_count": 3,
   "metadata": {},
   "outputs": [],
   "source": [
    "url = \"http://api.openweathermap.org/data/2.5/forecast?id=2172797&APPID=\"\n",
    "target_url = url + weather_api_key"
   ]
  },
  {
   "cell_type": "code",
   "execution_count": 4,
   "metadata": {},
   "outputs": [
    {
     "name": "stdout",
     "output_type": "stream",
     "text": [
      "Processing record 1 of Set 1 | puerto ayora\n",
      "Processing record 2 of Set 1 | verkhnevilyuysk\n",
      "Processing record 3 of Set 1 | maceio\n",
      "Processing record 4 of Set 1 | grindavik\n",
      "Processing record 5 of Set 1 | coahuayana\n",
      "Processing record 6 of Set 1 | atuona\n",
      "Processing record 7 of Set 1 | gazli\n",
      "Processing record 8 of Set 1 | vaini\n",
      "Processing record 9 of Set 1 | aksu\n",
      "Processing record 10 of Set 1 | norman wells\n",
      "Processing record 11 of Set 1 | butaritari\n",
      "Record not found\n",
      "Record not found\n",
      "Processing record 12 of Set 1 | san policarpo\n",
      "Processing record 13 of Set 1 | chimore\n",
      "Processing record 14 of Set 1 | mataura\n",
      "Processing record 15 of Set 1 | palmer\n",
      "Processing record 16 of Set 1 | bredasdorp\n",
      "Processing record 17 of Set 1 | cherskiy\n",
      "Processing record 18 of Set 1 | kapaa\n",
      "Processing record 19 of Set 1 | port elizabeth\n",
      "Processing record 20 of Set 1 | port alfred\n",
      "Processing record 21 of Set 1 | arlit\n",
      "Processing record 22 of Set 1 | tasiilaq\n",
      "Processing record 23 of Set 1 | hermanus\n",
      "Processing record 24 of Set 1 | camacha\n",
      "Processing record 25 of Set 1 | albany\n",
      "Processing record 26 of Set 1 | chuy\n",
      "Processing record 27 of Set 1 | dunedin\n",
      "Processing record 28 of Set 1 | valparaiso\n",
      "Processing record 29 of Set 1 | north bend\n",
      "Processing record 30 of Set 1 | ushuaia\n",
      "Record not found\n",
      "Processing record 31 of Set 1 | barrow\n",
      "Processing record 32 of Set 1 | esperance\n",
      "Processing record 33 of Set 1 | manta\n",
      "Processing record 34 of Set 1 | houston\n",
      "Processing record 35 of Set 1 | antalaha\n",
      "Processing record 36 of Set 1 | yarada\n",
      "Record not found\n",
      "Processing record 37 of Set 1 | luau\n",
      "Processing record 38 of Set 1 | gushikawa\n",
      "Processing record 39 of Set 1 | port macquarie\n",
      "Processing record 40 of Set 1 | sainte-rose\n",
      "Processing record 41 of Set 1 | port-gentil\n",
      "Record not found\n",
      "Processing record 42 of Set 1 | codrington\n",
      "Processing record 43 of Set 1 | kodinsk\n",
      "Processing record 44 of Set 1 | vung tau\n",
      "Processing record 45 of Set 1 | mar del plata\n",
      "Processing record 46 of Set 1 | kahului\n",
      "Processing record 47 of Set 1 | khatanga\n",
      "Processing record 48 of Set 1 | zlobin\n",
      "Processing record 49 of Set 1 | komsomolskiy\n",
      "Processing record 50 of Set 1 | thompson\n",
      "Processing record 51 of Set 1 | paciran\n",
      "Processing record 52 of Set 1 | haines junction\n",
      "Processing record 53 of Set 1 | belaya gora\n",
      "Processing record 54 of Set 1 | rikitea\n",
      "Processing record 55 of Set 1 | contai\n",
      "Processing record 56 of Set 1 | avarua\n",
      "Processing record 57 of Set 1 | arraial do cabo\n",
      "Processing record 58 of Set 1 | hobart\n",
      "Processing record 59 of Set 1 | tiksi\n",
      "Processing record 60 of Set 1 | jamestown\n",
      "Processing record 61 of Set 1 | ozernovskiy\n",
      "Processing record 62 of Set 1 | bluff\n",
      "Processing record 63 of Set 1 | kaitangata\n",
      "Processing record 64 of Set 1 | diffa\n",
      "Processing record 65 of Set 1 | lompoc\n",
      "Processing record 66 of Set 1 | liverpool\n",
      "Processing record 67 of Set 1 | byron bay\n",
      "Processing record 68 of Set 1 | lappeenranta\n",
      "Processing record 69 of Set 1 | joshimath\n",
      "Processing record 70 of Set 1 | hithadhoo\n",
      "Processing record 71 of Set 1 | atyrau\n",
      "Processing record 72 of Set 1 | caravelas\n",
      "Record not found\n",
      "Processing record 73 of Set 1 | victoria\n",
      "Processing record 74 of Set 1 | yerbogachen\n",
      "Processing record 75 of Set 1 | hofn\n",
      "Record not found\n",
      "Processing record 76 of Set 1 | touros\n",
      "Processing record 77 of Set 1 | bambous virieux\n",
      "Processing record 78 of Set 1 | sandwick\n",
      "Processing record 79 of Set 1 | longyearbyen\n",
      "Processing record 80 of Set 1 | sioux lookout\n",
      "Processing record 81 of Set 1 | hilo\n",
      "Record not found\n",
      "Processing record 82 of Set 1 | chodavaram\n",
      "Processing record 83 of Set 1 | harper\n",
      "Processing record 84 of Set 1 | amahai\n",
      "Processing record 85 of Set 1 | tuktoyaktuk\n",
      "Record not found\n",
      "Processing record 86 of Set 1 | new norfolk\n",
      "Processing record 87 of Set 1 | huilong\n",
      "Processing record 88 of Set 1 | balakhninskiy\n",
      "Record not found\n",
      "Processing record 89 of Set 1 | margate\n",
      "Processing record 90 of Set 1 | chifeng\n",
      "Processing record 91 of Set 1 | gazojak\n",
      "Processing record 92 of Set 1 | sistranda\n",
      "Processing record 93 of Set 1 | skegness\n",
      "Processing record 94 of Set 1 | busselton\n",
      "Processing record 95 of Set 1 | poitiers\n",
      "Processing record 96 of Set 1 | klaksvik\n",
      "Processing record 97 of Set 1 | salta\n",
      "Processing record 98 of Set 1 | cape town\n",
      "Processing record 99 of Set 1 | luderitz\n",
      "Processing record 100 of Set 1 | taiobeiras\n",
      "Processing record 101 of Set 1 | alpatovo\n",
      "Record not found\n",
      "Record not found\n",
      "Processing record 102 of Set 1 | punta arenas\n",
      "Processing record 103 of Set 1 | alpena\n",
      "Processing record 104 of Set 1 | ketchikan\n",
      "Processing record 105 of Set 1 | upernavik\n",
      "Processing record 106 of Set 1 | ust-barguzin\n",
      "Processing record 107 of Set 1 | nhulunbuy\n",
      "Processing record 108 of Set 1 | turayf\n",
      "Processing record 109 of Set 1 | skibotn\n",
      "Processing record 110 of Set 1 | otane\n",
      "Processing record 111 of Set 1 | calvinia\n",
      "Processing record 112 of Set 1 | broome\n",
      "Processing record 113 of Set 1 | itarema\n",
      "Processing record 114 of Set 1 | castro\n",
      "Processing record 115 of Set 1 | pemangkat\n",
      "Processing record 116 of Set 1 | pevek\n",
      "Processing record 117 of Set 1 | provideniya\n",
      "Processing record 118 of Set 1 | mezocsat\n",
      "Processing record 119 of Set 1 | barguzin\n",
      "Processing record 120 of Set 1 | nome\n",
      "Processing record 121 of Set 1 | cervo\n",
      "Processing record 122 of Set 1 | saint george\n",
      "Processing record 123 of Set 1 | corner brook\n",
      "Processing record 124 of Set 1 | praia da vitoria\n",
      "Record not found\n",
      "Processing record 125 of Set 1 | carnarvon\n",
      "Processing record 126 of Set 1 | yumen\n",
      "Processing record 127 of Set 1 | lebu\n",
      "Record not found\n",
      "Record not found\n",
      "Processing record 128 of Set 1 | port hedland\n",
      "Processing record 129 of Set 1 | ayorou\n",
      "Record not found\n",
      "Processing record 130 of Set 1 | georgetown\n",
      "Processing record 131 of Set 1 | dingle\n",
      "Processing record 132 of Set 1 | campos altos\n",
      "Processing record 133 of Set 1 | porto novo\n",
      "Processing record 134 of Set 1 | livingston\n",
      "Processing record 135 of Set 1 | ayagoz\n",
      "Processing record 136 of Set 1 | arawa\n",
      "Processing record 137 of Set 1 | eyl\n",
      "Record not found\n",
      "Processing record 138 of Set 1 | indiaroba\n",
      "Processing record 139 of Set 1 | leh\n",
      "Processing record 140 of Set 1 | bluefield\n",
      "Processing record 141 of Set 1 | benghazi\n",
      "Processing record 142 of Set 1 | tautira\n",
      "Processing record 143 of Set 1 | pangnirtung\n",
      "Processing record 144 of Set 1 | abbeville\n",
      "Processing record 145 of Set 1 | bethel\n",
      "Processing record 146 of Set 1 | bolshaya dzhalga\n",
      "Processing record 147 of Set 1 | vestmanna\n",
      "Processing record 148 of Set 1 | raton\n",
      "Processing record 149 of Set 1 | nha trang\n",
      "Processing record 150 of Set 1 | sumenep\n",
      "Processing record 151 of Set 1 | makakilo city\n",
      "Processing record 152 of Set 1 | dikson\n",
      "Processing record 153 of Set 1 | shiraz\n",
      "Processing record 154 of Set 1 | alto araguaia\n",
      "Processing record 155 of Set 1 | vestmannaeyjar\n",
      "Processing record 156 of Set 1 | estelle\n",
      "Record not found\n",
      "Processing record 157 of Set 1 | leningradskiy\n",
      "Processing record 158 of Set 1 | guymon\n",
      "Processing record 159 of Set 1 | tabou\n",
      "Processing record 160 of Set 1 | qaanaaq\n",
      "Processing record 161 of Set 1 | payo\n",
      "Processing record 162 of Set 1 | kaeo\n",
      "Record not found\n",
      "Processing record 163 of Set 1 | basco\n",
      "Record not found\n",
      "Processing record 164 of Set 1 | misratah\n",
      "Record not found\n",
      "Processing record 165 of Set 1 | kavieng\n",
      "Processing record 166 of Set 1 | talnakh\n",
      "Record not found\n",
      "Processing record 167 of Set 1 | saint-augustin\n",
      "Processing record 168 of Set 1 | yellowknife\n",
      "Processing record 169 of Set 1 | uige\n",
      "Processing record 170 of Set 1 | mount gambier\n",
      "Processing record 171 of Set 1 | midland\n",
      "Record not found\n",
      "Processing record 172 of Set 1 | alugan\n",
      "Processing record 173 of Set 1 | nikolskoye\n",
      "Record not found\n",
      "Processing record 174 of Set 1 | torbay\n",
      "Processing record 175 of Set 1 | lata\n",
      "Processing record 176 of Set 1 | riverton\n",
      "Processing record 177 of Set 1 | collie\n",
      "Processing record 178 of Set 1 | faanui\n",
      "Processing record 179 of Set 1 | haapiti\n",
      "Processing record 180 of Set 1 | genhe\n",
      "Processing record 181 of Set 1 | saint-pierre\n",
      "Processing record 182 of Set 1 | saint-philippe\n",
      "Processing record 183 of Set 1 | damaturu\n",
      "Processing record 184 of Set 1 | geraldton\n",
      "Record not found\n",
      "Processing record 185 of Set 1 | gediz\n",
      "Processing record 186 of Set 1 | melnikovo\n",
      "Processing record 187 of Set 1 | ola\n"
     ]
    },
    {
     "name": "stdout",
     "output_type": "stream",
     "text": [
      "Processing record 188 of Set 1 | kearney\n",
      "Processing record 189 of Set 1 | samfya\n",
      "Processing record 190 of Set 1 | malanje\n",
      "Processing record 191 of Set 1 | yabrud\n",
      "Processing record 192 of Set 1 | homer\n",
      "Processing record 193 of Set 1 | inirida\n",
      "Processing record 194 of Set 1 | blagoyevo\n",
      "Processing record 195 of Set 1 | kodiak\n",
      "Processing record 196 of Set 1 | ponta do sol\n",
      "Processing record 197 of Set 1 | mahebourg\n",
      "Record not found\n",
      "Processing record 198 of Set 1 | egvekinot\n",
      "Processing record 199 of Set 1 | bosaso\n",
      "Processing record 200 of Set 1 | deep river\n",
      "Processing record 201 of Set 1 | santa vitoria\n",
      "Processing record 202 of Set 1 | cidreira\n",
      "Processing record 203 of Set 1 | kamaishi\n",
      "Processing record 204 of Set 1 | mozarlandia\n",
      "Processing record 205 of Set 1 | loandjili\n",
      "Processing record 206 of Set 1 | pushkino\n",
      "Processing record 207 of Set 1 | sur\n",
      "Processing record 208 of Set 1 | kabare\n",
      "Processing record 209 of Set 1 | namibe\n",
      "Processing record 210 of Set 1 | ocara\n",
      "Processing record 211 of Set 1 | sungaipenuh\n",
      "Processing record 212 of Set 1 | barstow\n",
      "Processing record 213 of Set 1 | ostersund\n",
      "Processing record 214 of Set 1 | axim\n",
      "Processing record 215 of Set 1 | kalmunai\n",
      "Processing record 216 of Set 1 | colac\n",
      "Processing record 217 of Set 1 | baruun-urt\n",
      "Processing record 218 of Set 1 | narsaq\n",
      "Record not found\n",
      "Processing record 219 of Set 1 | wanning\n",
      "Processing record 220 of Set 1 | iquitos\n",
      "Processing record 221 of Set 1 | aginskoye\n",
      "Processing record 222 of Set 1 | yulara\n",
      "Processing record 223 of Set 1 | marawi\n",
      "Processing record 224 of Set 1 | katsuura\n",
      "Processing record 225 of Set 1 | trinidad\n",
      "Processing record 226 of Set 1 | russell\n",
      "Processing record 227 of Set 1 | archidona\n",
      "Processing record 228 of Set 1 | mezen\n",
      "Processing record 229 of Set 1 | kandrian\n",
      "Processing record 230 of Set 1 | severo-kurilsk\n",
      "Processing record 231 of Set 1 | moa\n",
      "Processing record 232 of Set 1 | san rafael\n",
      "Processing record 233 of Set 1 | hamilton\n",
      "Processing record 234 of Set 1 | ahipara\n",
      "Processing record 235 of Set 1 | sterling\n",
      "Processing record 236 of Set 1 | vao\n",
      "Processing record 237 of Set 1 | chokurdakh\n",
      "Processing record 238 of Set 1 | khandagayty\n",
      "Processing record 239 of Set 1 | stratford\n",
      "Processing record 240 of Set 1 | lavrentiya\n",
      "Processing record 241 of Set 1 | qui nhon\n",
      "Processing record 242 of Set 1 | sungai padi\n",
      "Processing record 243 of Set 1 | lorengau\n",
      "Processing record 244 of Set 1 | guerrero negro\n",
      "Processing record 245 of Set 1 | saint anthony\n",
      "Processing record 246 of Set 1 | lazaro cardenas\n",
      "Processing record 247 of Set 1 | lai\n",
      "Processing record 248 of Set 1 | nordby\n",
      "Processing record 249 of Set 1 | zeya\n",
      "Processing record 250 of Set 1 | cayenne\n",
      "Processing record 251 of Set 1 | parry sound\n",
      "Processing record 252 of Set 1 | port hardy\n",
      "Record not found\n",
      "Processing record 253 of Set 1 | sept-iles\n",
      "Processing record 254 of Set 1 | kloulklubed\n",
      "Processing record 255 of Set 1 | sechura\n",
      "Record not found\n",
      "Processing record 256 of Set 1 | kachug\n",
      "Processing record 257 of Set 1 | salalah\n",
      "Processing record 258 of Set 1 | san andres\n",
      "Processing record 259 of Set 1 | bundaberg\n",
      "Processing record 260 of Set 1 | sabha\n",
      "Processing record 261 of Set 1 | aklavik\n",
      "Processing record 262 of Set 1 | verkhnyaya inta\n",
      "Processing record 263 of Set 1 | columbus\n",
      "Processing record 264 of Set 1 | beringovskiy\n",
      "Processing record 265 of Set 1 | thiruvananthapuram\n",
      "Processing record 266 of Set 1 | bogorodskoye\n",
      "Processing record 267 of Set 1 | hasaki\n",
      "Processing record 268 of Set 1 | san vicente\n",
      "Processing record 269 of Set 1 | carutapera\n",
      "Processing record 270 of Set 1 | port blair\n",
      "Processing record 271 of Set 1 | hirara\n",
      "Processing record 272 of Set 1 | huangcun\n",
      "Processing record 273 of Set 1 | huanren\n",
      "Processing record 274 of Set 1 | kakonko\n",
      "Processing record 275 of Set 1 | gravenhurst\n",
      "Processing record 276 of Set 1 | champerico\n",
      "Processing record 277 of Set 1 | constitucion\n",
      "Processing record 278 of Set 1 | capao da canoa\n",
      "Processing record 279 of Set 1 | bandarbeyla\n",
      "Processing record 280 of Set 1 | qasigiannguit\n",
      "Processing record 281 of Set 1 | najran\n",
      "Processing record 282 of Set 1 | east london\n",
      "Processing record 283 of Set 1 | biltine\n",
      "Processing record 284 of Set 1 | bengkulu\n",
      "Processing record 285 of Set 1 | keetmanshoop\n",
      "Processing record 286 of Set 1 | tuatapere\n",
      "Processing record 287 of Set 1 | kolaras\n",
      "Processing record 288 of Set 1 | bilibino\n",
      "Processing record 289 of Set 1 | manavalakurichi\n",
      "Processing record 290 of Set 1 | emerald\n",
      "Processing record 291 of Set 1 | kemin\n",
      "Processing record 292 of Set 1 | ancud\n",
      "Processing record 293 of Set 1 | iskateley\n",
      "Processing record 294 of Set 1 | tashtyp\n",
      "Processing record 295 of Set 1 | adamas\n",
      "Processing record 296 of Set 1 | huadian\n",
      "Processing record 297 of Set 1 | port lincoln\n",
      "Processing record 298 of Set 1 | parkes\n",
      "Processing record 299 of Set 1 | pisco\n",
      "Processing record 300 of Set 1 | colares\n",
      "Processing record 301 of Set 1 | vila velha\n",
      "Processing record 302 of Set 1 | muncar\n",
      "Processing record 303 of Set 1 | ust-tsilma\n",
      "Processing record 304 of Set 1 | gizo\n",
      "Processing record 305 of Set 1 | imbituba\n",
      "Processing record 306 of Set 1 | cabo san lucas\n",
      "Processing record 307 of Set 1 | brae\n",
      "Processing record 308 of Set 1 | palana\n",
      "Processing record 309 of Set 1 | alofi\n",
      "Processing record 310 of Set 1 | isangel\n",
      "Processing record 311 of Set 1 | inta\n",
      "Processing record 312 of Set 1 | miracema do tocantins\n",
      "Processing record 313 of Set 1 | saskylakh\n",
      "Processing record 314 of Set 1 | nelson bay\n",
      "Processing record 315 of Set 1 | high level\n",
      "Record not found\n",
      "Processing record 316 of Set 1 | bogalusa\n",
      "Processing record 317 of Set 1 | awbari\n",
      "Processing record 318 of Set 1 | bilma\n",
      "Processing record 319 of Set 1 | teahupoo\n",
      "Processing record 320 of Set 1 | bathsheba\n",
      "Processing record 321 of Set 1 | vila franca do campo\n",
      "Processing record 322 of Set 1 | onega\n",
      "Processing record 323 of Set 1 | mnogovershinnyy\n",
      "Processing record 324 of Set 1 | huarmey\n",
      "Record not found\n",
      "Processing record 325 of Set 1 | qinzhou\n",
      "Processing record 326 of Set 1 | dayong\n",
      "Processing record 327 of Set 1 | nerchinskiy zavod\n",
      "Processing record 328 of Set 1 | yar-sale\n",
      "Processing record 329 of Set 1 | el tigre\n",
      "Processing record 330 of Set 1 | kizner\n",
      "Processing record 331 of Set 1 | honningsvag\n",
      "Processing record 332 of Set 1 | shingu\n",
      "Record not found\n",
      "Processing record 333 of Set 1 | santa maria\n",
      "Record not found\n",
      "Processing record 334 of Set 1 | tsiroanomandidy\n",
      "Processing record 335 of Set 1 | paamiut\n",
      "Processing record 336 of Set 1 | loiza\n",
      "Processing record 337 of Set 1 | yeppoon\n",
      "Processing record 338 of Set 1 | souillac\n",
      "Processing record 339 of Set 1 | husavik\n",
      "Processing record 340 of Set 1 | castanheira de pera\n",
      "Processing record 341 of Set 1 | tazovskiy\n",
      "Processing record 342 of Set 1 | kavaratti\n",
      "Processing record 343 of Set 1 | roald\n",
      "Processing record 344 of Set 1 | kilindoni\n",
      "Processing record 345 of Set 1 | pitkyaranta\n",
      "Processing record 346 of Set 1 | nyaunglebin\n",
      "Processing record 347 of Set 1 | phan thiet\n",
      "Processing record 348 of Set 1 | jaciara\n",
      "Processing record 349 of Set 1 | balingasay\n",
      "Processing record 350 of Set 1 | aksarayskiy\n",
      "Processing record 351 of Set 1 | kruisfontein\n",
      "Processing record 352 of Set 1 | nsanje\n",
      "Processing record 353 of Set 1 | nanortalik\n",
      "Processing record 354 of Set 1 | naze\n",
      "Processing record 355 of Set 1 | barabai\n",
      "Processing record 356 of Set 1 | buchanan\n",
      "Processing record 357 of Set 1 | trail\n",
      "Processing record 358 of Set 1 | flin flon\n",
      "Processing record 359 of Set 1 | teknaf\n",
      "Processing record 360 of Set 1 | marystown\n",
      "Processing record 361 of Set 1 | miyazu\n",
      "Processing record 362 of Set 1 | marsh harbour\n",
      "Processing record 363 of Set 1 | bowen\n",
      "Processing record 364 of Set 1 | salisbury\n",
      "Processing record 365 of Set 1 | rosarito\n",
      "Processing record 366 of Set 1 | sao filipe\n",
      "Processing record 367 of Set 1 | san juan\n",
      "Record not found\n",
      "Processing record 368 of Set 1 | coihaique\n",
      "Processing record 369 of Set 1 | ribeira grande\n",
      "Processing record 370 of Set 1 | cascais\n",
      "Processing record 371 of Set 1 | machico\n",
      "Processing record 372 of Set 1 | fernie\n",
      "Processing record 373 of Set 1 | port keats\n",
      "Processing record 374 of Set 1 | jalu\n",
      "Processing record 375 of Set 1 | bagdarin\n",
      "Processing record 376 of Set 1 | rio verde de mato grosso\n",
      "Processing record 377 of Set 1 | cairns\n"
     ]
    },
    {
     "name": "stdout",
     "output_type": "stream",
     "text": [
      "Processing record 378 of Set 1 | ilulissat\n",
      "Processing record 379 of Set 1 | labytnangi\n",
      "Processing record 380 of Set 1 | comodoro rivadavia\n",
      "Processing record 381 of Set 1 | bella vista\n",
      "Processing record 382 of Set 1 | sola\n",
      "Record not found\n",
      "Processing record 383 of Set 1 | dedougou\n",
      "Processing record 384 of Set 1 | grants\n",
      "Processing record 385 of Set 1 | cockburn town\n",
      "Processing record 386 of Set 1 | lima\n",
      "Processing record 387 of Set 1 | mahibadhoo\n",
      "Processing record 388 of Set 1 | kurilsk\n",
      "Processing record 389 of Set 1 | muisne\n",
      "Processing record 390 of Set 1 | walvis bay\n",
      "Processing record 391 of Set 1 | mabaruma\n",
      "Processing record 392 of Set 1 | samarai\n",
      "Processing record 393 of Set 1 | puerto carreno\n",
      "Record not found\n",
      "Processing record 394 of Set 1 | namatanai\n",
      "Record not found\n",
      "Processing record 395 of Set 1 | killybegs\n",
      "Processing record 396 of Set 1 | grants pass\n",
      "Record not found\n",
      "Processing record 397 of Set 1 | sangar\n",
      "Record not found\n",
      "Processing record 398 of Set 1 | shahr-e babak\n",
      "Processing record 399 of Set 1 | riyadh\n",
      "Processing record 400 of Set 1 | mount isa\n",
      "Processing record 401 of Set 1 | la asuncion\n",
      "Processing record 402 of Set 1 | obo\n",
      "Processing record 403 of Set 1 | madingou\n",
      "Processing record 404 of Set 1 | guider\n",
      "Processing record 405 of Set 1 | aleksandrov gay\n",
      "Record not found\n",
      "Processing record 406 of Set 1 | cap malheureux\n",
      "Record not found\n",
      "Record not found\n",
      "Processing record 407 of Set 1 | houma\n",
      "Processing record 408 of Set 1 | cabedelo\n",
      "Processing record 409 of Set 1 | olga\n",
      "Processing record 410 of Set 1 | raga\n",
      "Processing record 411 of Set 1 | mayya\n",
      "Processing record 412 of Set 1 | hokitika\n",
      "Processing record 413 of Set 1 | saryozek\n",
      "Processing record 414 of Set 1 | saldanha\n",
      "Processing record 415 of Set 1 | asfi\n",
      "Processing record 416 of Set 1 | jackson\n",
      "Processing record 417 of Set 1 | liberty\n",
      "Processing record 418 of Set 1 | kuruman\n",
      "Processing record 419 of Set 1 | waipawa\n",
      "Processing record 420 of Set 1 | malinovskiy\n",
      "Processing record 421 of Set 1 | zalantun\n",
      "Processing record 422 of Set 1 | weiser\n",
      "Processing record 423 of Set 1 | ayodhya\n",
      "Processing record 424 of Set 1 | leshukonskoye\n",
      "Processing record 425 of Set 1 | tuntum\n",
      "Record not found\n",
      "Processing record 426 of Set 1 | sibolga\n",
      "Processing record 427 of Set 1 | samana\n",
      "Processing record 428 of Set 1 | verkh-usugli\n",
      "Processing record 429 of Set 1 | praia\n",
      "Processing record 430 of Set 1 | ambanja\n",
      "Processing record 431 of Set 1 | balkanabat\n",
      "Processing record 432 of Set 1 | upington\n",
      "Processing record 433 of Set 1 | dharchula\n",
      "Processing record 434 of Set 1 | vanimo\n",
      "Processing record 435 of Set 1 | brokopondo\n",
      "Processing record 436 of Set 1 | soto la marina\n",
      "Processing record 437 of Set 1 | rovaniemi\n",
      "Processing record 438 of Set 1 | changli\n",
      "Processing record 439 of Set 1 | el reno\n",
      "Processing record 440 of Set 1 | goderich\n",
      "Processing record 441 of Set 1 | airai\n",
      "Processing record 442 of Set 1 | krasnyy yar\n",
      "Processing record 443 of Set 1 | anloga\n",
      "Processing record 444 of Set 1 | kidal\n",
      "Processing record 445 of Set 1 | umtata\n",
      "Processing record 446 of Set 1 | lincoln\n",
      "Processing record 447 of Set 1 | lahaina\n",
      "Processing record 448 of Set 1 | celestun\n",
      "Processing record 449 of Set 1 | usvyaty\n",
      "Record not found\n",
      "Processing record 450 of Set 1 | wilmington\n",
      "Processing record 451 of Set 1 | clarence town\n",
      "Processing record 452 of Set 1 | rochester\n",
      "Record not found\n",
      "Record not found\n",
      "Processing record 453 of Set 1 | achutupo\n",
      "Processing record 454 of Set 1 | moberly\n",
      "Processing record 455 of Set 1 | puro\n",
      "Processing record 456 of Set 1 | bystryy istok\n",
      "Processing record 457 of Set 1 | pelym\n",
      "Processing record 458 of Set 1 | nueva imperial\n",
      "Processing record 459 of Set 1 | arona\n",
      "Processing record 460 of Set 1 | junin\n",
      "Processing record 461 of Set 1 | sitka\n",
      "Processing record 462 of Set 1 | clyde river\n",
      "Processing record 463 of Set 1 | metkovic\n",
      "Processing record 464 of Set 1 | mopti\n",
      "Processing record 465 of Set 1 | passo de camaragibe\n",
      "Processing record 466 of Set 1 | terra santa\n",
      "Processing record 467 of Set 1 | marrakesh\n",
      "Record not found\n",
      "Processing record 468 of Set 1 | bua yai\n",
      "Processing record 469 of Set 1 | vinh\n",
      "Processing record 470 of Set 1 | cestas\n",
      "Processing record 471 of Set 1 | terrace bay\n",
      "Processing record 472 of Set 1 | azangaro\n",
      "Processing record 473 of Set 1 | fallon\n",
      "Record not found\n",
      "Processing record 474 of Set 1 | vostok\n",
      "Record not found\n",
      "Processing record 475 of Set 1 | dali\n",
      "Processing record 476 of Set 1 | hovd\n",
      "Processing record 477 of Set 1 | pozo colorado\n",
      "Processing record 478 of Set 1 | eskilstuna\n",
      "Processing record 479 of Set 1 | srednekolymsk\n",
      "Processing record 480 of Set 1 | muros\n",
      "Processing record 481 of Set 1 | ostrovnoy\n",
      "Processing record 482 of Set 1 | tura\n",
      "Processing record 483 of Set 1 | mareeba\n",
      "Processing record 484 of Set 1 | ayan\n",
      "Processing record 485 of Set 1 | bahia blanca\n",
      "Record not found\n",
      "Processing record 486 of Set 1 | olafsvik\n",
      "Processing record 487 of Set 1 | port hawkesbury\n",
      "Processing record 488 of Set 1 | jieshi\n",
      "Processing record 489 of Set 1 | kenai\n",
      "Processing record 490 of Set 1 | pochutla\n",
      "Processing record 491 of Set 1 | saint-joseph\n",
      "Processing record 492 of Set 1 | davidson\n",
      "Processing record 493 of Set 1 | yacuiba\n",
      "Processing record 494 of Set 1 | banatsko novo selo\n",
      "Processing record 495 of Set 1 | san cristobal\n",
      "Processing record 496 of Set 1 | madarounfa\n",
      "Processing record 497 of Set 1 | yaan\n",
      "Processing record 498 of Set 1 | pahrump\n",
      "Processing record 499 of Set 1 | mehamn\n",
      "Record not found\n",
      "Processing record 500 of Set 1 | dublin\n",
      "Processing record 501 of Set 1 | saint-gilles\n",
      "Processing record 502 of Set 1 | la ronge\n",
      "Processing record 503 of Set 1 | riosucio\n",
      "Processing record 504 of Set 1 | hohhot\n",
      "Processing record 505 of Set 1 | sampang\n",
      "Record not found\n",
      "Processing record 506 of Set 1 | iqaluit\n",
      "Processing record 507 of Set 1 | kralendijk\n",
      "Processing record 508 of Set 1 | nexo\n",
      "Record not found\n",
      "Processing record 509 of Set 1 | havre\n",
      "Processing record 510 of Set 1 | qeshm\n",
      "Processing record 511 of Set 1 | yaroslavskaya\n",
      "Processing record 512 of Set 1 | brewster\n",
      "Processing record 513 of Set 1 | acajutla\n",
      "Processing record 514 of Set 1 | rocha\n",
      "Processing record 515 of Set 1 | pavlovskiy\n",
      "Processing record 516 of Set 1 | kulhudhuffushi\n",
      "Processing record 517 of Set 1 | asau\n",
      "Processing record 518 of Set 1 | alexandria\n",
      "Processing record 519 of Set 1 | puerto escondido\n",
      "Processing record 520 of Set 1 | little current\n",
      "Processing record 521 of Set 1 | kununurra\n",
      "Processing record 522 of Set 1 | zhigalovo\n",
      "Processing record 523 of Set 1 | paragould\n",
      "Processing record 524 of Set 1 | atherton\n",
      "Processing record 525 of Set 1 | fez\n",
      "Processing record 526 of Set 1 | linxia\n",
      "Processing record 527 of Set 1 | alice springs\n",
      "Processing record 528 of Set 1 | te anau\n",
      "Processing record 529 of Set 1 | ust-kuyga\n",
      "Processing record 530 of Set 1 | rio gallegos\n",
      "Processing record 531 of Set 1 | amalapuram\n",
      "Processing record 532 of Set 1 | deputatskiy\n",
      "Processing record 533 of Set 1 | durban\n",
      "Processing record 534 of Set 1 | petauke\n",
      "Processing record 535 of Set 1 | ewa beach\n",
      "Processing record 536 of Set 1 | safford\n",
      "Processing record 537 of Set 1 | nuuk\n",
      "Processing record 538 of Set 1 | san jose\n",
      "Processing record 539 of Set 1 | lugovoy\n",
      "Processing record 540 of Set 1 | poum\n",
      "Processing record 541 of Set 1 | saurimo\n",
      "Record not found\n",
      "Processing record 542 of Set 1 | sarangani\n",
      "Processing record 543 of Set 1 | coquimbo\n",
      "Processing record 544 of Set 1 | blackwater\n",
      "Processing record 545 of Set 1 | lora del rio\n",
      "Processing record 546 of Set 1 | tarko-sale\n",
      "Processing record 547 of Set 1 | hervey bay\n",
      "Processing record 548 of Set 1 | alta floresta\n",
      "Processing record 549 of Set 1 | pathein\n",
      "Processing record 550 of Set 1 | fortuna\n",
      "Processing record 551 of Set 1 | acarau\n",
      "Processing record 552 of Set 1 | pakokku\n",
      "Processing record 553 of Set 1 | gilgit\n",
      "Record not found\n",
      "Processing record 554 of Set 1 | aswan\n",
      "Record not found\n",
      "Processing record 555 of Set 1 | zatoka\n",
      "Processing record 556 of Set 1 | khani\n",
      "Processing record 557 of Set 1 | arequipa\n",
      "Processing record 558 of Set 1 | nyamuswa\n",
      "Processing record 559 of Set 1 | westport\n",
      "Processing record 560 of Set 1 | gomel\n",
      "Processing record 561 of Set 1 | meulaboh\n",
      "Done processing through city data.\n"
     ]
    }
   ],
   "source": [
    "# set up lists to hold reponse info\n",
    "cityname = []\n",
    "cloudiness = []\n",
    "country = []\n",
    "date = []\n",
    "humidity = []\n",
    "lat = []\n",
    "lng = []\n",
    "max_temp = []\n",
    "wind_speed = []\n",
    "count = 0\n",
    "    \n",
    "# Loop through the list of cities and perform a request for data on each\n",
    "for city in cities:\n",
    "    weather_response = requests.get(target_url + \"&q=\" + city + \"&units=Imperial\")\n",
    "    weather_json = weather_response.json()\n",
    "    try:\n",
    "        cityname.append(weather_json['city']['name'])\n",
    "        cloudiness.append(weather_json['list'][0]['clouds']['all'])\n",
    "        country.append(weather_json['city']['country'])\n",
    "        date.append(weather_json['list'][0]['dt'])\n",
    "        humidity.append(weather_json['list'][0]['main']['humidity'])\n",
    "        lat.append(weather_json['city']['coord']['lat'])\n",
    "        lng.append(weather_json['city']['coord']['lon'])\n",
    "        max_temp.append(weather_json['list'][0]['main']['temp_max'])\n",
    "        wind_speed.append(weather_json['list'][0]['wind']['speed'])\n",
    "        count = count + 1\n",
    "        print(f\"Processing record {count} of Set 1 | {city}\")\n",
    "    except:\n",
    "        print(\"Record not found\") \n",
    "        pass\n",
    "        \n",
    "print(\"Done processing through city data.\")"
   ]
  },
  {
   "cell_type": "markdown",
   "metadata": {},
   "source": [
    "### Convert Raw Data to DataFrame\n",
    "* Export the city data into a .csv.\n",
    "* Display the DataFrame"
   ]
  },
  {
   "cell_type": "code",
   "execution_count": 28,
   "metadata": {},
   "outputs": [
    {
     "data": {
      "text/html": [
       "<div>\n",
       "<style scoped>\n",
       "    .dataframe tbody tr th:only-of-type {\n",
       "        vertical-align: middle;\n",
       "    }\n",
       "\n",
       "    .dataframe tbody tr th {\n",
       "        vertical-align: top;\n",
       "    }\n",
       "\n",
       "    .dataframe thead th {\n",
       "        text-align: right;\n",
       "    }\n",
       "</style>\n",
       "<table border=\"1\" class=\"dataframe\">\n",
       "  <thead>\n",
       "    <tr style=\"text-align: right;\">\n",
       "      <th></th>\n",
       "      <th>City</th>\n",
       "      <th>Latitude</th>\n",
       "      <th>Longitude</th>\n",
       "      <th>Max Temp</th>\n",
       "      <th>Humidity</th>\n",
       "      <th>Wind Speed</th>\n",
       "      <th>Cloudiness</th>\n",
       "      <th>Country</th>\n",
       "      <th>Date</th>\n",
       "    </tr>\n",
       "  </thead>\n",
       "  <tbody>\n",
       "    <tr>\n",
       "      <th>0</th>\n",
       "      <td>Puerto Ayora</td>\n",
       "      <td>-0.7393</td>\n",
       "      <td>-90.3518</td>\n",
       "      <td>71.42</td>\n",
       "      <td>73</td>\n",
       "      <td>9.91</td>\n",
       "      <td>64</td>\n",
       "      <td>EC</td>\n",
       "      <td>1596304800</td>\n",
       "    </tr>\n",
       "    <tr>\n",
       "      <th>1</th>\n",
       "      <td>Verkhnevilyuysk</td>\n",
       "      <td>63.4453</td>\n",
       "      <td>120.3167</td>\n",
       "      <td>56.59</td>\n",
       "      <td>69</td>\n",
       "      <td>2.51</td>\n",
       "      <td>0</td>\n",
       "      <td>RU</td>\n",
       "      <td>1596304800</td>\n",
       "    </tr>\n",
       "    <tr>\n",
       "      <th>2</th>\n",
       "      <td>Maceió</td>\n",
       "      <td>-9.6658</td>\n",
       "      <td>-35.7353</td>\n",
       "      <td>77.16</td>\n",
       "      <td>79</td>\n",
       "      <td>12.10</td>\n",
       "      <td>55</td>\n",
       "      <td>BR</td>\n",
       "      <td>1596304800</td>\n",
       "    </tr>\n",
       "    <tr>\n",
       "      <th>3</th>\n",
       "      <td>Grindavik</td>\n",
       "      <td>63.8424</td>\n",
       "      <td>-22.4338</td>\n",
       "      <td>54.05</td>\n",
       "      <td>83</td>\n",
       "      <td>11.63</td>\n",
       "      <td>80</td>\n",
       "      <td>IS</td>\n",
       "      <td>1596304800</td>\n",
       "    </tr>\n",
       "    <tr>\n",
       "      <th>4</th>\n",
       "      <td>Coahuayana Viejo</td>\n",
       "      <td>18.7333</td>\n",
       "      <td>-103.6833</td>\n",
       "      <td>91.72</td>\n",
       "      <td>64</td>\n",
       "      <td>4.38</td>\n",
       "      <td>8</td>\n",
       "      <td>MX</td>\n",
       "      <td>1596304800</td>\n",
       "    </tr>\n",
       "  </tbody>\n",
       "</table>\n",
       "</div>"
      ],
      "text/plain": [
       "               City  Latitude  Longitude  Max Temp  Humidity  Wind Speed  \\\n",
       "0      Puerto Ayora   -0.7393   -90.3518     71.42        73        9.91   \n",
       "1   Verkhnevilyuysk   63.4453   120.3167     56.59        69        2.51   \n",
       "2            Maceió   -9.6658   -35.7353     77.16        79       12.10   \n",
       "3         Grindavik   63.8424   -22.4338     54.05        83       11.63   \n",
       "4  Coahuayana Viejo   18.7333  -103.6833     91.72        64        4.38   \n",
       "\n",
       "   Cloudiness Country        Date  \n",
       "0          64      EC  1596304800  \n",
       "1           0      RU  1596304800  \n",
       "2          55      BR  1596304800  \n",
       "3          80      IS  1596304800  \n",
       "4           8      MX  1596304800  "
      ]
     },
     "execution_count": 28,
     "metadata": {},
     "output_type": "execute_result"
    }
   ],
   "source": [
    "# Convert array of JSONs into Pandas DataFrame\n",
    "\n",
    "weather_dict = {\"City\": cityname,\"Latitude\": lat, \"Longitude\":lng,\n",
    "                \"Max Temp\":max_temp,\"Humidity\":humidity,\n",
    "                \"Wind Speed\":wind_speed,\"Cloudiness\":cloudiness,\n",
    "                \"Country\":country, \"Date\":date}\n",
    "weather_data = pd.DataFrame(weather_dict)\n",
    "weather_data.head()"
   ]
  },
  {
   "cell_type": "code",
   "execution_count": 34,
   "metadata": {},
   "outputs": [],
   "source": [
    "# Export the City_Data into a csv\n",
    "weather_data.to_csv(r'my_weather_data.csv')"
   ]
  },
  {
   "cell_type": "markdown",
   "metadata": {},
   "source": [
    "## Inspect the data and remove the cities where the humidity > 100%.\n",
    "----\n",
    "Skip this step if there are no cities that have humidity > 100%. "
   ]
  },
  {
   "cell_type": "code",
   "execution_count": 7,
   "metadata": {},
   "outputs": [],
   "source": [
    "one_hund_humid = weather_data.loc[weather_data[\"Humidity\"] == 100,:]"
   ]
  },
  {
   "cell_type": "code",
   "execution_count": 8,
   "metadata": {},
   "outputs": [
    {
     "data": {
      "text/html": [
       "<div>\n",
       "<style scoped>\n",
       "    .dataframe tbody tr th:only-of-type {\n",
       "        vertical-align: middle;\n",
       "    }\n",
       "\n",
       "    .dataframe tbody tr th {\n",
       "        vertical-align: top;\n",
       "    }\n",
       "\n",
       "    .dataframe thead th {\n",
       "        text-align: right;\n",
       "    }\n",
       "</style>\n",
       "<table border=\"1\" class=\"dataframe\">\n",
       "  <thead>\n",
       "    <tr style=\"text-align: right;\">\n",
       "      <th></th>\n",
       "      <th>City</th>\n",
       "      <th>Latitude</th>\n",
       "      <th>Longitude</th>\n",
       "      <th>Max Temp</th>\n",
       "      <th>Humidity</th>\n",
       "      <th>Wind Speed</th>\n",
       "      <th>Cloudiness</th>\n",
       "      <th>Country</th>\n",
       "      <th>Date</th>\n",
       "    </tr>\n",
       "  </thead>\n",
       "  <tbody>\n",
       "    <tr>\n",
       "      <th>322</th>\n",
       "      <td>Mnogovershinnyy</td>\n",
       "      <td>53.9353</td>\n",
       "      <td>139.9242</td>\n",
       "      <td>49.28</td>\n",
       "      <td>100</td>\n",
       "      <td>6.24</td>\n",
       "      <td>100</td>\n",
       "      <td>RU</td>\n",
       "      <td>1596304800</td>\n",
       "    </tr>\n",
       "    <tr>\n",
       "      <th>473</th>\n",
       "      <td>Vostok</td>\n",
       "      <td>46.4856</td>\n",
       "      <td>135.8833</td>\n",
       "      <td>63.00</td>\n",
       "      <td>100</td>\n",
       "      <td>4.07</td>\n",
       "      <td>99</td>\n",
       "      <td>RU</td>\n",
       "      <td>1596304800</td>\n",
       "    </tr>\n",
       "  </tbody>\n",
       "</table>\n",
       "</div>"
      ],
      "text/plain": [
       "                City  Latitude  Longitude  Max Temp  Humidity  Wind Speed  \\\n",
       "322  Mnogovershinnyy   53.9353   139.9242     49.28       100        6.24   \n",
       "473           Vostok   46.4856   135.8833     63.00       100        4.07   \n",
       "\n",
       "     Cloudiness Country        Date  \n",
       "322         100      RU  1596304800  \n",
       "473          99      RU  1596304800  "
      ]
     },
     "execution_count": 8,
     "metadata": {},
     "output_type": "execute_result"
    }
   ],
   "source": [
    "#  Get the indices of cities that have humidity over 100%.\n",
    "one_hund_humid.head()"
   ]
  },
  {
   "cell_type": "code",
   "execution_count": 9,
   "metadata": {},
   "outputs": [],
   "source": [
    "# Make a new DataFrame equal to the city data to drop all humidity outliers by index.\n",
    "# Passing \"inplace=False\" will make a copy of the city_data DataFrame, which we call \"clean_city_data\".\n"
   ]
  },
  {
   "cell_type": "code",
   "execution_count": 10,
   "metadata": {},
   "outputs": [],
   "source": [
    "# Extract relevant fields from the data frame\n",
    "\n",
    "\n",
    "# Export the City_Data into a csv\n"
   ]
  },
  {
   "cell_type": "markdown",
   "metadata": {},
   "source": [
    "## Plotting the Data\n",
    "* Use proper labeling of the plots using plot titles (including date of analysis) and axes labels.\n",
    "* Save the plotted figures as .pngs."
   ]
  },
  {
   "cell_type": "markdown",
   "metadata": {},
   "source": [
    "## Latitude vs. Temperature Plot"
   ]
  },
  {
   "cell_type": "code",
   "execution_count": 11,
   "metadata": {
    "scrolled": true
   },
   "outputs": [
    {
     "data": {
      "image/png": "[encoded data removed]",
      "text/plain": [
       "<Figure size 432x288 with 1 Axes>"
      ]
     },
     "metadata": {
      "needs_background": "light"
     },
     "output_type": "display_data"
    }
   ],
   "source": [
    "scatlat = weather_data[\"Latitude\"]\n",
    "scattemp = weather_data[\"Max Temp\"]\n",
    "\n",
    "plt.scatter(scatlat,scattemp)\n",
    "\n",
    "plt.title('Latitude vs. Temperature')\n",
    "\n",
    "plt.xlabel('Latitude')\n",
    "plt.ylabel('Temperature (F)')\n",
    "\n",
    "plt.savefig('zaheer - latvstemp.png')\n",
    "\n",
    "plt.show()"
   ]
  },
  {
   "cell_type": "markdown",
   "metadata": {},
   "source": [
    "## Latitude vs. Humidity Plot"
   ]
  },
  {
   "cell_type": "code",
   "execution_count": 12,
   "metadata": {},
   "outputs": [
    {
     "data": {
      "image/png": "[encoded data removed]",
      "text/plain": [
       "<Figure size 432x288 with 1 Axes>"
      ]
     },
     "metadata": {
      "needs_background": "light"
     },
     "output_type": "display_data"
    }
   ],
   "source": [
    "scatlat = weather_data[\"Latitude\"]\n",
    "scattemp = weather_data[\"Humidity\"]\n",
    "\n",
    "plt.scatter(scatlat,scattemp)\n",
    "\n",
    "plt.title('Latitude vs. Humidity')\n",
    "\n",
    "plt.xlabel('Latitude')\n",
    "plt.ylabel('Humidity')\n",
    "\n",
    "plt.savefig('zaheer - latvstemp.png')\n",
    "\n",
    "plt.show()"
   ]
  },
  {
   "cell_type": "markdown",
   "metadata": {},
   "source": [
    "## Latitude vs. Cloudiness Plot"
   ]
  },
  {
   "cell_type": "code",
   "execution_count": 13,
   "metadata": {},
   "outputs": [
    {
     "data": {
      "image/png": "[encoded data removed]",
      "text/plain": [
       "<Figure size 432x288 with 1 Axes>"
      ]
     },
     "metadata": {
      "needs_background": "light"
     },
     "output_type": "display_data"
    }
   ],
   "source": [
    "cloud = weather_data[\"Cloudiness\"]\n",
    "\n",
    "plt.scatter(scatlat,cloud)\n",
    "\n",
    "plt.title('City Latitude vs. Cloudiness')\n",
    "\n",
    "plt.xlabel('Latitude')\n",
    "plt.ylabel('Cloudiness (%)')\n",
    "\n",
    "plt.savefig('zaheer - scatplotlatitudecloudiness')\n",
    "\n",
    "plt.show()"
   ]
  },
  {
   "cell_type": "markdown",
   "metadata": {},
   "source": [
    "## Latitude vs. Wind Speed Plot"
   ]
  },
  {
   "cell_type": "code",
   "execution_count": 14,
   "metadata": {},
   "outputs": [
    {
     "data": {
      "image/png": "[encoded data removed]",
      "text/plain": [
       "<Figure size 432x288 with 1 Axes>"
      ]
     },
     "metadata": {
      "needs_background": "light"
     },
     "output_type": "display_data"
    }
   ],
   "source": [
    "wind = weather_data[\"Wind Speed\"]\n",
    "\n",
    "plt.scatter(scatlat,wind)\n",
    "\n",
    "plt.title('City Latitude vs. Wind Speed')\n",
    "\n",
    "plt.xlabel('Latitude')\n",
    "plt.ylabel('Wind Speed (mph)')\n",
    "\n",
    "plt.savefig('zaheer - scatplotlatitudewindspeed')\n",
    "\n",
    "plt.show()"
   ]
  },
  {
   "cell_type": "markdown",
   "metadata": {},
   "source": [
    "## Linear Regression"
   ]
  },
  {
   "cell_type": "code",
   "execution_count": 15,
   "metadata": {},
   "outputs": [],
   "source": [
    "# OPTIONAL: Create a function to create Linear Regression plots\n",
    "\n",
    "def plot_linear_regression(x_values, y_values, title, text_coordinates):\n",
    "    (slope, intercept, rvalue, pvalue, stderr) = linregress(x_values, y_values)\n",
    "    regress_values = x_values * slope + intercept\n",
    "    line_eq = \"y = \" + str(round(slope,2)) + \"x + \" + str(round(intercept,2))\n",
    "    \n",
    "    plt.scatter(x_values,y_values)\n",
    "    \n",
    "    plt.plot(x_values,regress_values,\"r-\")\n",
    "    \n",
    "    plt.annotate (line_eq,text_coordinates,fontsize=14,color=\"red\")\n",
    "    \n",
    "    plt.xlabel(\"Latitude\")\n",
    "    \n",
    "    plt.ylabel(title)\n",
    "    \n",
    "    print(f\"The r-squared is: {rvalue}\")\n",
    "    \n",
    "    plt.show()\n"
   ]
  },
  {
   "cell_type": "code",
   "execution_count": 16,
   "metadata": {},
   "outputs": [],
   "source": [
    "# Create Northern and Southern Hemisphere DataFrames\n",
    "\n",
    "north_df = weather_data.loc[weather_data[\"Latitude\"] >= 0,:]\n",
    "\n",
    "south_df = weather_data.loc[weather_data[\"Latitude\"] < 0,:]"
   ]
  },
  {
   "cell_type": "markdown",
   "metadata": {},
   "source": [
    "####  Northern Hemisphere - Max Temp vs. Latitude Linear Regression"
   ]
  },
  {
   "cell_type": "code",
   "execution_count": 17,
   "metadata": {},
   "outputs": [
    {
     "name": "stdout",
     "output_type": "stream",
     "text": [
      "The r-squared is: -0.7429571732550727\n"
     ]
    },
    {
     "data": {
      "image/png": "[encoded data removed]",
      "text/plain": [
       "<Figure size 432x288 with 1 Axes>"
      ]
     },
     "metadata": {
      "needs_background": "light"
     },
     "output_type": "display_data"
    },
    {
     "name": "stdout",
     "output_type": "stream",
     "text": [
      "The  r value indicates a  negative correlation between latitude and temperature.\n"
     ]
    },
    {
     "data": {
      "text/plain": [
       "<Figure size 432x288 with 0 Axes>"
      ]
     },
     "metadata": {},
     "output_type": "display_data"
    }
   ],
   "source": [
    "x_values = north_df[\"Latitude\"]\n",
    "y_values = north_df[\"Max Temp\"]\n",
    "plot_linear_regression(x_values,y_values,'Max Temp',(6,30))\n",
    "\n",
    "plt.savefig('zaheer - northerntemplat')\n",
    "\n",
    "print(\"The  r value indicates a  negative correlation between latitude and temperature.\")"
   ]
  },
  {
   "cell_type": "markdown",
   "metadata": {},
   "source": [
    "####  Southern Hemisphere - Max Temp vs. Latitude Linear Regression"
   ]
  },
  {
   "cell_type": "code",
   "execution_count": 18,
   "metadata": {},
   "outputs": [
    {
     "name": "stdout",
     "output_type": "stream",
     "text": [
      "The r-squared is: 0.7659976761254728\n"
     ]
    },
    {
     "data": {
      "image/png": "[encoded data removed]",
      "text/plain": [
       "<Figure size 432x288 with 1 Axes>"
      ]
     },
     "metadata": {
      "needs_background": "light"
     },
     "output_type": "display_data"
    },
    {
     "name": "stdout",
     "output_type": "stream",
     "text": [
      "The  r value indicates a  positive correlation between latitude and temperature.\n"
     ]
    },
    {
     "data": {
      "text/plain": [
       "<Figure size 432x288 with 0 Axes>"
      ]
     },
     "metadata": {},
     "output_type": "display_data"
    }
   ],
   "source": [
    "x_values = south_df[\"Latitude\"]\n",
    "y_values = south_df[\"Max Temp\"]\n",
    "plot_linear_regression(x_values,y_values,'Max Temp',(6,30))\n",
    "\n",
    "plt.savefig('zaheer - southerntemplat')\n",
    "\n",
    "print(\"The  r value indicates a  positive correlation between latitude and temperature.\")"
   ]
  },
  {
   "cell_type": "markdown",
   "metadata": {},
   "source": [
    "####  Northern Hemisphere - Humidity (%) vs. Latitude Linear Regression"
   ]
  },
  {
   "cell_type": "code",
   "execution_count": 19,
   "metadata": {},
   "outputs": [
    {
     "name": "stdout",
     "output_type": "stream",
     "text": [
      "The r-squared is: 0.12163010711064857\n"
     ]
    },
    {
     "data": {
      "image/png": "[encoded data removed]",
      "text/plain": [
       "<Figure size 432x288 with 1 Axes>"
      ]
     },
     "metadata": {
      "needs_background": "light"
     },
     "output_type": "display_data"
    },
    {
     "data": {
      "text/plain": [
       "<Figure size 432x288 with 0 Axes>"
      ]
     },
     "metadata": {},
     "output_type": "display_data"
    }
   ],
   "source": [
    "x_values = north_df[\"Latitude\"]\n",
    "y_values = north_df[\"Humidity\"]\n",
    "plot_linear_regression(x_values,y_values,'Humidity',(6,30))\n",
    "\n",
    "plt.savefig('zaheer - northernhumlat')"
   ]
  },
  {
   "cell_type": "markdown",
   "metadata": {},
   "source": [
    "####  Southern Hemisphere - Humidity (%) vs. Latitude Linear Regression"
   ]
  },
  {
   "cell_type": "code",
   "execution_count": 20,
   "metadata": {},
   "outputs": [
    {
     "name": "stdout",
     "output_type": "stream",
     "text": [
      "The r-squared is: -0.1847279667179916\n"
     ]
    },
    {
     "data": {
      "image/png": "[encoded data removed]",
      "text/plain": [
       "<Figure size 432x288 with 1 Axes>"
      ]
     },
     "metadata": {
      "needs_background": "light"
     },
     "output_type": "display_data"
    },
    {
     "data": {
      "text/plain": [
       "<Figure size 432x288 with 0 Axes>"
      ]
     },
     "metadata": {},
     "output_type": "display_data"
    }
   ],
   "source": [
    "x_values = south_df[\"Latitude\"]\n",
    "y_values = south_df[\"Humidity\"]\n",
    "plot_linear_regression(x_values,y_values,'Humidity',(6,30))\n",
    "\n",
    "plt.savefig('zaheer - southernhumlat')"
   ]
  },
  {
   "cell_type": "markdown",
   "metadata": {},
   "source": [
    "####  Northern Hemisphere - Cloudiness (%) vs. Latitude Linear Regression"
   ]
  },
  {
   "cell_type": "code",
   "execution_count": 21,
   "metadata": {},
   "outputs": [
    {
     "name": "stdout",
     "output_type": "stream",
     "text": [
      "The r-squared is: 0.014692198036088204\n"
     ]
    },
    {
     "data": {
      "image/png": "[encoded data removed]",
      "text/plain": [
       "<Figure size 432x288 with 1 Axes>"
      ]
     },
     "metadata": {
      "needs_background": "light"
     },
     "output_type": "display_data"
    },
    {
     "name": "stdout",
     "output_type": "stream",
     "text": [
      "The r-value indicates that there is no relationship.\n"
     ]
    },
    {
     "data": {
      "text/plain": [
       "<Figure size 432x288 with 0 Axes>"
      ]
     },
     "metadata": {},
     "output_type": "display_data"
    }
   ],
   "source": [
    "x_values = north_df[\"Latitude\"]\n",
    "y_values = north_df[\"Cloudiness\"]\n",
    "plot_linear_regression(x_values,y_values,'Cloudiness',(6,30))\n",
    "\n",
    "plt.savefig('zaheer - northerncloudlat')\n",
    "print(\"The r-value indicates that there is no relationship.\")"
   ]
  },
  {
   "cell_type": "markdown",
   "metadata": {},
   "source": [
    "####  Southern Hemisphere - Cloudiness (%) vs. Latitude Linear Regression"
   ]
  },
  {
   "cell_type": "code",
   "execution_count": 22,
   "metadata": {},
   "outputs": [
    {
     "name": "stdout",
     "output_type": "stream",
     "text": [
      "The r-squared is: -0.03336406657230857\n"
     ]
    },
    {
     "data": {
      "image/png": "[encoded data removed]",
      "text/plain": [
       "<Figure size 432x288 with 1 Axes>"
      ]
     },
     "metadata": {
      "needs_background": "light"
     },
     "output_type": "display_data"
    },
    {
     "name": "stdout",
     "output_type": "stream",
     "text": [
      "The r-value indicates that there is no relationship.\n"
     ]
    },
    {
     "data": {
      "text/plain": [
       "<Figure size 432x288 with 0 Axes>"
      ]
     },
     "metadata": {},
     "output_type": "display_data"
    }
   ],
   "source": [
    "x_values = south_df[\"Latitude\"]\n",
    "y_values = south_df[\"Cloudiness\"]\n",
    "plot_linear_regression(x_values,y_values,'Cloudiness',(6,30))\n",
    "\n",
    "plt.savefig('zaheer - southerncloudlat')\n",
    "print(\"The r-value indicates that there is no relationship.\")"
   ]
  },
  {
   "cell_type": "markdown",
   "metadata": {},
   "source": [
    "####  Northern Hemisphere - Wind Speed (mph) vs. Latitude Linear Regression"
   ]
  },
  {
   "cell_type": "code",
   "execution_count": 23,
   "metadata": {},
   "outputs": [
    {
     "name": "stdout",
     "output_type": "stream",
     "text": [
      "The r-squared is: -0.11669230501485812\n"
     ]
    },
    {
     "data": {
      "image/png": "[encoded data removed]",
      "text/plain": [
       "<Figure size 432x288 with 1 Axes>"
      ]
     },
     "metadata": {
      "needs_background": "light"
     },
     "output_type": "display_data"
    },
    {
     "name": "stdout",
     "output_type": "stream",
     "text": [
      "The r-value indicates that there is no relationship.\n"
     ]
    },
    {
     "data": {
      "text/plain": [
       "<Figure size 432x288 with 0 Axes>"
      ]
     },
     "metadata": {},
     "output_type": "display_data"
    }
   ],
   "source": [
    "x_values = north_df[\"Latitude\"]\n",
    "y_values = north_df[\"Wind Speed\"]\n",
    "plot_linear_regression(x_values,y_values,'Wind Speed',(6,30))\n",
    "\n",
    "plt.savefig('zaheer - northernwindlat')\n",
    "print(\"The r-value indicates that there is no relationship.\")"
   ]
  },
  {
   "cell_type": "markdown",
   "metadata": {},
   "source": [
    "####  Southern Hemisphere - Wind Speed (mph) vs. Latitude Linear Regression"
   ]
  },
  {
   "cell_type": "code",
   "execution_count": 24,
   "metadata": {},
   "outputs": [
    {
     "name": "stdout",
     "output_type": "stream",
     "text": [
      "The r-squared is: 0.07685203202610917\n"
     ]
    },
    {
     "data": {
      "image/png": "[encoded data removed]",
      "text/plain": [
       "<Figure size 432x288 with 1 Axes>"
      ]
     },
     "metadata": {
      "needs_background": "light"
     },
     "output_type": "display_data"
    },
    {
     "name": "stdout",
     "output_type": "stream",
     "text": [
      "The r-value indicates that there is no relationship.\n"
     ]
    },
    {
     "data": {
      "text/plain": [
       "<Figure size 432x288 with 0 Axes>"
      ]
     },
     "metadata": {},
     "output_type": "display_data"
    }
   ],
   "source": [
    "x_values = south_df[\"Latitude\"]\n",
    "y_values = south_df[\"Wind Speed\"]\n",
    "plot_linear_regression(x_values,y_values,'Wind Speed',(6,30))\n",
    "\n",
    "plt.savefig('zaheer - southernwindlat')\n",
    "print(\"The r-value indicates that there is no relationship.\")"
   ]
  },
  {
   "cell_type": "code",
   "execution_count": null,
   "metadata": {},
   "outputs": [],
   "source": []
  }
 ],
 "metadata": {
  "anaconda-cloud": {},
  "kernel_info": {
   "name": "python3"
  },
  "kernelspec": {
   "display_name": "Python 3",
   "language": "python",
   "name": "python3"
  },
  "language_info": {
   "codemirror_mode": {
    "name": "ipython",
    "version": 3
   },
   "file_extension": ".py",
   "mimetype": "text/x-python",
   "name": "python",
   "nbconvert_exporter": "python",
   "pygments_lexer": "ipython3",
   "version": "3.6.10"
  },
  "latex_envs": {
   "LaTeX_envs_menu_present": true,
   "autoclose": false,
   "autocomplete": true,
   "bibliofile": "biblio.bib",
   "cite_by": "apalike",
   "current_citInitial": 1,
   "eqLabelWithNumbers": true,
   "eqNumInitial": 1,
   "hotkeys": {
    "equation": "Ctrl-E",
    "itemize": "Ctrl-I"
   },
   "labels_anchors": false,
   "latex_user_defs": false,
   "report_style_numbering": false,
   "user_envs_cfg": false
  },
  "nteract": {
   "version": "0.12.3"
  }
 },
 "nbformat": 4,
 "nbformat_minor": 2
}
